{
 "cells": [
  {
   "cell_type": "markdown",
   "metadata": {},
   "source": [
    "In this tutorial, we illustrate how to generate decision landscape visualisations. As an example, we use the data from O'Hora et al.(2013).\n",
    "\n",
    "First, download the data from https://osf.io/ahpv6/ and save it to any directory.\n",
    "\n",
    "Then, using the DataReader class, load the data with `dr.read_data()` (the `path` parameter should point to the directory where you downloaded the data), and then preprocess it with `dr.preprocess_data()`. "
   ]
  },
  {
   "cell_type": "code",
   "execution_count": null,
   "metadata": {},
   "outputs": [],
   "source": [
    "import os\n",
    "from pydlv import data_reader, derivative_calculator\n",
    "\n",
    "dr = data_reader.DataReader()\n",
    "dc = derivative_calculator.DerivativeCalculator()\n",
    "\n",
    "data = dr.read_data(path='../../../../data/scirep_locdyn')\n",
    "# rewards_sum defines the experimental conditions to be analysed (see data description on OSF for details)\n",
    "# reward sums of 12, 15 and 25 correspond to the High vs. Low condition in 7/5, 10/5 and 20/5 experiments, respectively\n",
    "data = dr.preprocess_data(data, rewards_sum = [12, 15, 25])\n",
    "data = dc.append_derivatives(data)"
   ]
  },
  {
   "cell_type": "markdown",
   "metadata": {},
   "source": [
    "Cache the processed data to csv so that you don't need to preprocess the raw data every time you analyse it."
   ]
  },
  {
   "cell_type": "code",
   "execution_count": null,
   "metadata": {},
   "outputs": [],
   "source": [
    "if not os.path.exists('csv'):\n",
    "    os.makedirs('csv')\n",
    "data.to_csv('csv/processed_data_high_low.csv')"
   ]
  },
  {
   "cell_type": "markdown",
   "metadata": {},
   "source": [
    "Next time just read the already processed data:"
   ]
  },
  {
   "cell_type": "code",
   "execution_count": null,
   "metadata": {},
   "outputs": [],
   "source": [
    "data = dr.get_processed_data(path='csv/processed_data_high_low.csv')"
   ]
  },
  {
   "cell_type": "markdown",
   "metadata": {},
   "source": [
    "Decision landscape time! Let's try the model with alpha=3 (that is, with four free parameters). We generate individual-level landscapes for all participants in the dataset."
   ]
  },
  {
   "cell_type": "code",
   "execution_count": null,
   "metadata": {
    "scrolled": false
   },
   "outputs": [],
   "source": [
    "from pydlv import dl_model_3, dl_generator\n",
    "\n",
    "model = dl_model_3.DLModel3()\n",
    "dlg = dl_generator.DLGenerator(model)\n",
    "\n",
    "fit_dl = lambda trajs: dlg.fit_dl_mult_traj(trajs, method=9)    \n",
    "fit_params = data.groupby(by='subj_id').apply(fit_dl)\n",
    "fit_params.index = fit_params.index.droplevel(1)\n",
    "\n",
    "fit_params.to_csv('csv/fit_params_by_subject.csv')"
   ]
  },
  {
   "cell_type": "markdown",
   "metadata": {},
   "source": [
    "Now that we've got the parameters for every subject, we can compare the landscapes!"
   ]
  },
  {
   "cell_type": "code",
   "execution_count": null,
   "metadata": {},
   "outputs": [],
   "source": [
    "%matplotlib inline\n",
    "\n",
    "from pydlv import dl_plotter\n",
    "from matplotlib import cm\n",
    "\n",
    "dlp = dl_plotter.DLPlotter(elev=33, azim=107)\n",
    "\n",
    "subjects = [9444, 8969]\n",
    "labels = ['Participant %i' % (subj_id) for subj_id in subjects]\n",
    "cmap = cm.viridis\n",
    "colors = [cmap(0.1), cmap(0.7)]\n",
    "\n",
    "for i, subj_id in enumerate(subjects):\n",
    "    x, y, dl = dlg.get_model_dl(fit_params.loc[subj_id][2:2+model.n_params])\n",
    "    dlp.plot_surface(x, y, dl, color=colors[i], alpha=0.8)\n",
    "\n",
    "dlp.add_legend(colors, labels)"
   ]
  }
 ],
 "metadata": {
  "anaconda-cloud": {},
  "kernelspec": {
   "display_name": "Python 3",
   "language": "python",
   "name": "python3"
  },
  "language_info": {
   "codemirror_mode": {
    "name": "ipython",
    "version": 3
   },
   "file_extension": ".py",
   "mimetype": "text/x-python",
   "name": "python",
   "nbconvert_exporter": "python",
   "pygments_lexer": "ipython3",
   "version": "3.7.3"
  }
 },
 "nbformat": 4,
 "nbformat_minor": 2
}
